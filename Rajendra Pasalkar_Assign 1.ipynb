{
 "cells": [
  {
   "cell_type": "markdown",
   "id": "b850136c-32fb-4206-ac2a-b7a1028f3de5",
   "metadata": {},
   "source": [
    "## What is 7 to the power of 4?"
   ]
  },
  {
   "cell_type": "code",
   "execution_count": 1,
   "id": "6fbbfe22-4942-48b3-8500-850cdd542ca2",
   "metadata": {},
   "outputs": [
    {
     "data": {
      "text/plain": [
       "2401"
      ]
     },
     "execution_count": 1,
     "metadata": {},
     "output_type": "execute_result"
    }
   ],
   "source": [
    "7**4"
   ]
  },
  {
   "cell_type": "markdown",
   "id": "4a3bd558-57fc-41e0-8522-e200ce650a43",
   "metadata": {},
   "source": [
    "## Split the string"
   ]
  },
  {
   "cell_type": "code",
   "execution_count": 2,
   "id": "ca0d6e99-2846-4786-b2f6-1603dddf91cc",
   "metadata": {},
   "outputs": [],
   "source": [
    "s=\"Hi there Yogesh!\""
   ]
  },
  {
   "cell_type": "code",
   "execution_count": 3,
   "id": "718fe928-6894-4e64-b4be-2befe64f72ed",
   "metadata": {},
   "outputs": [
    {
     "data": {
      "text/plain": [
       "['Hi', 'there', 'Yogesh!']"
      ]
     },
     "execution_count": 3,
     "metadata": {},
     "output_type": "execute_result"
    }
   ],
   "source": [
    "s.split()"
   ]
  },
  {
   "cell_type": "markdown",
   "id": "68238005-5f97-4fee-9d1e-f47b4f819113",
   "metadata": {},
   "source": [
    "## Use .format()"
   ]
  },
  {
   "cell_type": "code",
   "execution_count": 4,
   "id": "baea15fa-e433-4459-9bf8-e8614667d299",
   "metadata": {},
   "outputs": [],
   "source": [
    "planet = \"Earth\"\n",
    "diameter = 12742"
   ]
  },
  {
   "cell_type": "code",
   "execution_count": 5,
   "id": "75cff767-1f36-4678-98c6-bfd42a583bd3",
   "metadata": {},
   "outputs": [
    {
     "data": {
      "text/plain": [
       "'The diameter of Earth is 12742 kilometers'"
      ]
     },
     "execution_count": 5,
     "metadata": {},
     "output_type": "execute_result"
    }
   ],
   "source": [
    "'The diameter of {} is {} kilometers'.format(planet,diameter)"
   ]
  },
  {
   "cell_type": "markdown",
   "id": "5c365492-0b64-4048-a936-c3a26256ea15",
   "metadata": {},
   "source": [
    "## Given this nested list, use indexing to grab the word \"hello\""
   ]
  },
  {
   "cell_type": "code",
   "execution_count": 6,
   "id": "64aaf11d-58b4-4910-9d19-4f111fb9d585",
   "metadata": {},
   "outputs": [],
   "source": [
    "lst = [1,2,[3,4],[5,[100,200,['hello']],23,11],1,7]"
   ]
  },
  {
   "cell_type": "code",
   "execution_count": 7,
   "id": "823324b9-7f2d-40da-9bc6-e6a86a0bba46",
   "metadata": {},
   "outputs": [
    {
     "data": {
      "text/plain": [
       "'hello'"
      ]
     },
     "execution_count": 7,
     "metadata": {},
     "output_type": "execute_result"
    }
   ],
   "source": [
    "lst[3][1][2][0]"
   ]
  },
  {
   "cell_type": "markdown",
   "id": "c3dcb2a8-47ca-4019-b4c5-374ff0c4e98c",
   "metadata": {},
   "source": [
    "## Given this nested dictionary grab the word \"hello\". Be prepared, this will be annoying/tricky"
   ]
  },
  {
   "cell_type": "code",
   "execution_count": 8,
   "id": "deec2f8c-0fcb-4167-963d-f4f141e2308f",
   "metadata": {},
   "outputs": [],
   "source": [
    "d = {'k1':[1,2,3,{'tricky':['oh','man','inception',\n",
    "                            {'target':[1,2,3,'hello']}]}]}"
   ]
  },
  {
   "cell_type": "code",
   "execution_count": 9,
   "id": "a429fc3e-9281-4d76-ba51-3722add1438a",
   "metadata": {},
   "outputs": [
    {
     "data": {
      "text/plain": [
       "'hello'"
      ]
     },
     "execution_count": 9,
     "metadata": {},
     "output_type": "execute_result"
    }
   ],
   "source": [
    "d['k1'][3]['tricky'][3]['target'][3]"
   ]
  },
  {
   "cell_type": "markdown",
   "id": "db338d15-2ce2-445b-be73-0a2ba7fe6cf3",
   "metadata": {},
   "source": [
    "## What is the main difference between a tuple and a list?"
   ]
  },
  {
   "cell_type": "code",
   "execution_count": 10,
   "id": "4eef0a3d-51af-49aa-b1fb-12381d063596",
   "metadata": {},
   "outputs": [],
   "source": [
    "##  the tuples are immutable objects the lists are mutable"
   ]
  },
  {
   "cell_type": "markdown",
   "id": "962b7dac-ac84-43ab-bf19-56d48d30e2f4",
   "metadata": {},
   "source": [
    "## Create a function that grabs the email website domain from a string in the form: user@domain.com"
   ]
  },
  {
   "cell_type": "code",
   "execution_count": 11,
   "id": "684e93b5-f89c-4a1f-b875-b90c38f2f099",
   "metadata": {},
   "outputs": [],
   "source": [
    "def fun1(email):\n",
    "    return email.split('@')[1]"
   ]
  },
  {
   "cell_type": "code",
   "execution_count": 12,
   "id": "45c66f44-1bed-453d-be56-467017edebad",
   "metadata": {},
   "outputs": [
    {
     "data": {
      "text/plain": [
       "'gmail.com'"
      ]
     },
     "execution_count": 12,
     "metadata": {},
     "output_type": "execute_result"
    }
   ],
   "source": [
    "fun1('rvkpasalkar@gmail.com')"
   ]
  },
  {
   "cell_type": "markdown",
   "id": "6b07c014-691c-4e6e-92df-4efdbc611d8f",
   "metadata": {},
   "source": [
    "## Create a basic function that returns True if the word 'dog' is contained in the input string. "
   ]
  },
  {
   "cell_type": "code",
   "execution_count": 13,
   "id": "40ae3840-bebc-47a3-8573-7dc40c3adc00",
   "metadata": {},
   "outputs": [],
   "source": [
    "def findDog(input):\n",
    "    return 'dog' in input.lower().split()"
   ]
  },
  {
   "cell_type": "code",
   "execution_count": 14,
   "id": "ec579bbc-6313-49ac-a8da-7234dc414a51",
   "metadata": {},
   "outputs": [
    {
     "data": {
      "text/plain": [
       "True"
      ]
     },
     "execution_count": 14,
     "metadata": {},
     "output_type": "execute_result"
    }
   ],
   "source": [
    "findDog('Is there a dog here?')"
   ]
  },
  {
   "cell_type": "markdown",
   "id": "2631d846-fd82-4200-b7fa-4833c59b4eda",
   "metadata": {},
   "source": [
    "##  Create a function that counts the number of times the word \"dog\" occurs in a string"
   ]
  },
  {
   "cell_type": "code",
   "execution_count": 15,
   "id": "d3618ba2-9cc0-4baf-a460-f9c8a0e90e85",
   "metadata": {},
   "outputs": [],
   "source": [
    "def count_dog(input):\n",
    "    c=0\n",
    "    for w in input.lower().split():\n",
    "        if w=='dog':\n",
    "            c=c+1\n",
    "    return c"
   ]
  },
  {
   "cell_type": "code",
   "execution_count": 16,
   "id": "81fac57f-d7e8-4b3c-b1d7-9df4863e0e31",
   "metadata": {},
   "outputs": [
    {
     "data": {
      "text/plain": [
       "2"
      ]
     },
     "execution_count": 16,
     "metadata": {},
     "output_type": "execute_result"
    }
   ],
   "source": [
    "count_dog('This dog runs faster than the other dog dude!')"
   ]
  },
  {
   "cell_type": "markdown",
   "id": "3e5e827f-f811-444d-8e5e-fef4319027d5",
   "metadata": {},
   "source": [
    "## Use lambda expressions and the filter() function to filter out words from a list that don't start with the letter 's'"
   ]
  },
  {
   "cell_type": "code",
   "execution_count": 17,
   "id": "a5ed49db-2074-44a5-9a1e-701b8dbbe994",
   "metadata": {},
   "outputs": [],
   "source": [
    "seq=['soup','dog','salad','cat','great']"
   ]
  },
  {
   "cell_type": "code",
   "execution_count": 18,
   "id": "30c3e2e8-d1b9-4e61-8347-89da73ffcf2d",
   "metadata": {},
   "outputs": [
    {
     "data": {
      "text/plain": [
       "['dog', 'cat', 'great']"
      ]
     },
     "execution_count": 18,
     "metadata": {},
     "output_type": "execute_result"
    }
   ],
   "source": [
    "list(filter(lambda x:x[0]!='s',seq))"
   ]
  },
  {
   "cell_type": "code",
   "execution_count": 19,
   "id": "20d375a6-b313-42c5-b158-0216805f8364",
   "metadata": {},
   "outputs": [
    {
     "data": {
      "text/plain": [
       "['soup', 'salad']"
      ]
     },
     "execution_count": 19,
     "metadata": {},
     "output_type": "execute_result"
    }
   ],
   "source": [
    "list(filter(lambda x:x[0]=='s',seq))"
   ]
  },
  {
   "cell_type": "markdown",
   "id": "0c8f5e54-46a5-4ed9-8958-f6885682b423",
   "metadata": {},
   "source": [
    "## Write a function to return one of 3 possible results:"
   ]
  },
  {
   "cell_type": "code",
   "execution_count": 21,
   "id": "7e89faf3-ab4b-4b2b-b6c3-074b1116759f",
   "metadata": {},
   "outputs": [],
   "source": [
    "def speed(s,b):\n",
    "    if b==True:\n",
    "        speed_new=s-5\n",
    "    else:\n",
    "        speed_new=s\n",
    "    if speed_new>80:\n",
    "        return 'Big Ticket'\n",
    "    if speed_new>60:\n",
    "        return 'Small Ticket'\n",
    "    else:\n",
    "        return 'No Ticket'"
   ]
  },
  {
   "cell_type": "code",
   "execution_count": 22,
   "id": "6fd589c8-547f-44e2-8d83-bea646ade30d",
   "metadata": {},
   "outputs": [
    {
     "data": {
      "text/plain": [
       "'Small Ticket'"
      ]
     },
     "execution_count": 22,
     "metadata": {},
     "output_type": "execute_result"
    }
   ],
   "source": [
    "speed(85,True)"
   ]
  },
  {
   "cell_type": "code",
   "execution_count": 23,
   "id": "ae71a253-a678-4900-bd18-b7ef19b41036",
   "metadata": {},
   "outputs": [
    {
     "data": {
      "text/plain": [
       "'Big Ticket'"
      ]
     },
     "execution_count": 23,
     "metadata": {},
     "output_type": "execute_result"
    }
   ],
   "source": [
    "speed(85,False)"
   ]
  },
  {
   "cell_type": "code",
   "execution_count": 24,
   "id": "7e5a8651-afa4-4f77-9227-1c0f79d752db",
   "metadata": {},
   "outputs": [
    {
     "data": {
      "text/plain": [
       "'No Ticket'"
      ]
     },
     "execution_count": 24,
     "metadata": {},
     "output_type": "execute_result"
    }
   ],
   "source": [
    "speed(65,True)"
   ]
  },
  {
   "cell_type": "markdown",
   "id": "d82bcfe4-2fea-4b98-896d-19e01acab590",
   "metadata": {},
   "source": [
    "## print number num by extracting all the digits"
   ]
  },
  {
   "cell_type": "code",
   "execution_count": 1,
   "id": "52e21b18-0c66-4ac1-b316-5cc3887b5986",
   "metadata": {},
   "outputs": [],
   "source": [
    "def s(input):\n",
    "    for t in input:\n",
    "        if t==\"-\":\n",
    "            print (t,end=\"\")\n",
    "        if (t.isnumeric()):\n",
    "            print(t,end=\"\")"
   ]
  },
  {
   "cell_type": "code",
   "execution_count": 2,
   "id": "86e18aca-697b-4903-8b59-64507f20592d",
   "metadata": {},
   "outputs": [
    {
     "name": "stdout",
     "output_type": "stream",
     "text": [
      "-5678"
     ]
    }
   ],
   "source": [
    "s('-56dssd78')"
   ]
  },
  {
   "cell_type": "markdown",
   "id": "0a6110ff-2cce-419f-9823-cb4fcb2b8562",
   "metadata": {},
   "source": [
    "## palindrome"
   ]
  },
  {
   "cell_type": "code",
   "execution_count": 11,
   "id": "5ad85c74-cf78-476f-a4a2-d64854e19463",
   "metadata": {},
   "outputs": [
    {
     "name": "stdin",
     "output_type": "stream",
     "text": [
      "Enter the number : 786\n"
     ]
    },
    {
     "name": "stdout",
     "output_type": "stream",
     "text": [
      "Number is 5214\n",
      "Reverse Number is 4125\n",
      "Number is 9339\n",
      "Reverse Number is 9339\n",
      "Palindrome is  9339\n"
     ]
    }
   ],
   "source": [
    "n1=input('Enter the number :')\n",
    "n2=int(n1[::-1])\n",
    "n3=str(int(n1)+n2)\n",
    "while n3!=n3[::-1]:\n",
    "    n3=str(int(n3)+int(n3[::-1]))\n",
    "    print (\"Number is\",n3)\n",
    "    print (\"Reverse Number is\",n3[::-1])\n",
    "print (\"Palindrome is \",n3)"
   ]
  },
  {
   "cell_type": "markdown",
   "id": "b402f4e6-1305-4dd3-b1ab-e541b4b16160",
   "metadata": {},
   "source": [
    "## Write a python function to find and display the five digit number"
   ]
  },
  {
   "cell_type": "code",
   "execution_count": 1,
   "id": "158fe021-e392-4482-9b63-9b735e9592ab",
   "metadata": {},
   "outputs": [
    {
     "name": "stdout",
     "output_type": "stream",
     "text": [
      "75313\n"
     ]
    }
   ],
   "source": [
    "def find_five_digit():\n",
    "    for x in range(9,0,-1):\n",
    "        a=x\n",
    "        b=x-2\n",
    "        c=x-4\n",
    "        d=x-6\n",
    "        e=x-4\n",
    "        if c+d+e==a:\n",
    "            if a+b+c+d+e==19:\n",
    "                return (str(a)+str(b)+str(c)+str(d)+str(e))\n",
    "print (find_five_digit())"
   ]
  },
  {
   "cell_type": "code",
   "execution_count": null,
   "id": "ab6c2041-5660-4c83-b96d-6b7063b3b410",
   "metadata": {},
   "outputs": [],
   "source": []
  }
 ],
 "metadata": {
  "kernelspec": {
   "display_name": "Python 3 (ipykernel)",
   "language": "python",
   "name": "python3"
  },
  "language_info": {
   "codemirror_mode": {
    "name": "ipython",
    "version": 3
   },
   "file_extension": ".py",
   "mimetype": "text/x-python",
   "name": "python",
   "nbconvert_exporter": "python",
   "pygments_lexer": "ipython3",
   "version": "3.11.7"
  }
 },
 "nbformat": 4,
 "nbformat_minor": 5
}
